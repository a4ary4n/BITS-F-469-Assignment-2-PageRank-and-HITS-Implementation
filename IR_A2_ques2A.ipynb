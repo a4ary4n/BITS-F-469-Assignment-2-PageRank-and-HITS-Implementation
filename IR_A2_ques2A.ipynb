{
  "nbformat": 4,
  "nbformat_minor": 0,
  "metadata": {
    "colab": {
      "name": "IR-A2.ipynb",
      "provenance": [],
      "collapsed_sections": []
    },
    "kernelspec": {
      "name": "python3",
      "display_name": "Python 3"
    },
    "language_info": {
      "name": "python"
    }
  },
  "cells": [
    {
      "cell_type": "code",
      "execution_count": null,
      "metadata": {
        "id": "6_m6YjTFfJyU"
      },
      "outputs": [],
      "source": [
        "import numpy as np\n",
        "import numpy.linalg as la\n",
        "import timeit\n",
        "import matplotlib.pyplot as plt\n",
        "import csv \n"
      ]
    },
    {
      "cell_type": "code",
      "source": [
        "class Graph(object):\n",
        "  def __init__(self, n, e):\n",
        "    self.adj_mat = [[0]*n for i in range(n)]\n",
        "    self.size = e\n",
        "  \n",
        "  def add_edges(self, a, b):\n",
        "    a -= 1\n",
        "    b -= 1\n",
        "    self.adj_mat[b][a] = 1\n",
        "  \n",
        "  def tra_mat(self):\n",
        "    tra_mat = self.adj_mat\n",
        "    r = len(tra_mat)\n",
        "    c = len(tra_mat[0])\n",
        "\n",
        "    for i in range(c):\n",
        "      count = 0\n",
        "      for j in range(r):\n",
        "        if tra_mat[j][i] == 1:\n",
        "          count += 1\n",
        "      if count == 0:\n",
        "        continue\n",
        "      for j in range(r):\n",
        "       tra_mat[j][i] /= count\n",
        "\n",
        "    return tra_mat\n",
        "\n",
        "  def lin_alg(self,n):\n",
        "    mat = np.array(self.tra_mat())\n",
        "    d = 0.1\n",
        "    M = d * mat + (1-d)/n * np.ones(n)\n",
        "    eig_vals, eig_vecs = la.eig(M)\n",
        "    ord = np.absolute(eig_vals).argsort()[::-1]\n",
        "    eig_vals = eig_vals[ord]\n",
        "    eig_vecs = eig_vecs[:,ord]\n",
        "    r = eig_vecs[:, 0]\n",
        "    r = 100*np.real(r / np.sum(r))\n",
        "\n",
        "    return r\n",
        "\n",
        "  def power_iter(self, n):\n",
        "    result = []\n",
        "    mat = np.array(self.tra_mat())\n",
        "    d = 0.1\n",
        "    M = d * mat + (1-d)/n * np.ones(n)\n",
        "    r = 100*np.ones(n) / n\n",
        "    \n",
        "    pistart = timeit.default_timer()\n",
        "    for i in range(100) : \n",
        "        r = M @ r\n",
        "    pistop = timeit.default_timer()\n",
        "    result.append(r)\n",
        "    result.append(pistop - pistart)\n",
        "    return result\n",
        "\n",
        "  def conv_pi(self,n):\n",
        "    mat = np.array(self.tra_mat())\n",
        "    d = 0.1\n",
        "    M = d * mat + (1-d)/n * np.ones(n)\n",
        "    r = 100*np.ones(n) / n\n",
        "    lastR = r\n",
        "    r = M @ r\n",
        "    i = 0\n",
        "    while la.norm(lastR - r) > 0.01 :\n",
        "        lastR = r\n",
        "        r = M @ r\n",
        "        i += 1\n",
        "    print(str(i) + \" iterations until convergence\")\n",
        "    return r"
      ],
      "metadata": {
        "id": "NwRIeI7AYmWt"
      },
      "execution_count": null,
      "outputs": []
    },
    {
      "cell_type": "code",
      "source": [
        "if __name__ == \"__main__\":\n",
        "  n, e = map(int, input().split())\n",
        "  g = Graph(n, e)\n",
        "  for i in range(e):\n",
        "    u, v = map(int, input().split())\n",
        "    g.add_edges(u, v) \n",
        "\n",
        "  print(g.lin_alg(n))\n",
        "\n",
        "  result = g.power_iter(n) \n",
        "  print(result[0])\n",
        "\n",
        "  print(g.conv_pi(n))\n",
        "\n",
        "  print(\"time :\" + str(result[1]))"
      ],
      "metadata": {
        "id": "knh6JXkVbXUh",
        "colab": {
          "base_uri": "https://localhost:8080/"
        },
        "outputId": "2136d87a-5d67-4bba-8a58-c42e3b5ffb91"
      },
      "execution_count": null,
      "outputs": [
        {
          "output_type": "stream",
          "name": "stdout",
          "text": [
            "11 20\n",
            "1 2\n",
            "2 1\n",
            "2 3\n",
            "3 2\n",
            "3 4\n",
            "4 3\n",
            "4 5\n",
            "5 4\n",
            "5 6\n",
            "6 5\n",
            "6 7\n",
            "7 6\n",
            "7 8\n",
            "8 7\n",
            "8 9\n",
            "9 8\n",
            "9 10\n",
            "10 9\n",
            "10 11\n",
            "11 10\n",
            "[8.65697288 9.50309398 9.11157012 9.09194474 9.09096113 9.0909143\n",
            " 9.09096113 9.09194474 9.11157012 9.50309398 8.65697288]\n",
            "[8.65697288 9.50309398 9.11157012 9.09194474 9.09096113 9.0909143\n",
            " 9.09096113 9.09194474 9.11157012 9.50309398 8.65697288]\n",
            "2 iterations until convergence\n",
            "[8.65681818 9.50340909 9.11136364 9.09204545 9.09090909 9.09090909\n",
            " 9.09090909 9.09204545 9.11136364 9.50340909 8.65681818]\n",
            "time :0.00015860899975450593\n"
          ]
        }
      ]
    }
  ]
}